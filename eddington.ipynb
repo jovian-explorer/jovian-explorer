{
 "cells": [
  {
   "cell_type": "markdown",
   "metadata": {},
   "source": [
    "# Parameter estimation - Eddington experiment"
   ]
  },
  {
   "cell_type": "markdown",
   "metadata": {},
   "source": [
    "**References:**\n",
    "- [ICIC Data Analysis/Statistics workshop 2018](https://www.imperial.ac.uk/astrophysics/centre-for-inference-and-cosmology/seminars-and-events/data-analysis-workshops/)\n",
    "- [Problem sheet of ICIC Statistics Workshop](https://www.imperial.ac.uk/media/imperial-college/research-centres-and-groups/astrophysics/public/icic/data-analysis-workshop/2018/Eclipse1919-MCMC-project-2018.pdf)\n",
    "- [Dyson, Eddington and Davidson 1920 paper (Phil. Trans. R. Society, 220, 571)](http://rsta.royalsocietypublishing.org/content/roypta/220/571-581/291.full.pdf)\n"
   ]
  },
  {
   "cell_type": "markdown",
   "metadata": {},
   "source": [
    "The aim of this exercise is to analyse photographic plates from Eddington’s 1919 eclipse expedition, to determine whether the data favour Newtonian gravity or Einstein’s General Theory of Relativity. Light from stars that passes close to the Sun is deflected, and during an eclipse, these stars can be detected and their displacements measured, when compared with photographs taken when the Sun is far away.\n",
    "\n",
    "General Relativity predicts that light passing a mass M at distance r will be bent through an angle\n",
    "\n",
    "\\begin{equation}\n",
    "    \\theta_{\\text{GR}}(r)\n",
    "    =\n",
    "    \\frac{4 G M}{r c^{2}}\n",
    "\\end{equation}\n",
    "\n",
    "whereas an argument based on Newtonian gravity gives half this:\n",
    "\n",
    "\\begin{equation}\n",
    "    \\theta_{\\text{N}}(r)\n",
    "    =\n",
    "    \\frac{2 G M}{r c^{2}}\n",
    "\\end{equation}\n",
    "\n",
    "We can either treat this as a parameter inference problem, modelling the bending as\n",
    "\n",
    "\\begin{equation}\n",
    "    \\theta(r)\n",
    "    =\n",
    "    \\frac{\\alpha G M}{r c^{2}}\n",
    "\\end{equation}\n",
    "\n",
    "and inferring $\\alpha$, or as a model comparison problem. For this exercise we will\n",
    "do the former."
   ]
  },
  {
   "cell_type": "markdown",
   "metadata": {},
   "source": [
    "### Data model\n",
    "\n",
    "\\begin{equation}\n",
    "\\begin{aligned}\n",
    "    Dx^{\\text{model exp.}}(\\theta, x, y, E_{x}) &= a x + b y + c + \\alpha E_{x} \\\\\n",
    "    Dy^{\\text{model exp.}}(\\theta, x, y, E_{y}) &= d x + e y + f + \\alpha E_{y}\n",
    "\\end{aligned}\n",
    "\\end{equation}\n",
    "\n",
    "where:\n",
    "- $x$, $y$: coordinates of the stars\n",
    "- $E_{x}$, $E_{y}$: coefficients of the gravitational displacement\n",
    "- $c$, $f$: corrections to zero\n",
    "- $a$, $e$: differences of scale value (caused e.g. by changes in temperature)\n",
    "- $b$, $d$: depend on the orientiation of the two plates\n",
    "- $\\alpha$: deflection at unit distance, i.e (50' from the Sun's centre)\n",
    "\n",
    "\n",
    "**Parameter of Interest (POI):**\n",
    "- $\\alpha$\n",
    "\n",
    "**Nuisance parameters (NP):**\n",
    "- $a$, $b$, $c$, $d$, $e$, $f$"
   ]
  },
  {
   "cell_type": "markdown",
   "metadata": {},
   "source": [
    "**Parameter vector:**\n",
    "\n",
    "\\begin{equation}\n",
    "    \\mathbf{\\theta} = (\\alpha, a,b,c,d,e,f)\n",
    "\\end{equation}"
   ]
  },
  {
   "cell_type": "markdown",
   "metadata": {},
   "source": [
    "**Combined likelihood:**\n",
    "\n",
    "\\begin{equation}\n",
    "    \\mathcal{L} (\\theta, \\text{all data})\n",
    "    =\n",
    "    \\prod_{i=star} \\mathcal{L}_{i} (\\theta, Dx^{\\text{obs}}, Dy^{\\text{obs}})\n",
    "\\end{equation}\n",
    "\n",
    "where $\\mathcal{L}_{i}$ is:\n",
    "\n",
    "\\begin{equation}\n",
    "\\begin{aligned}\n",
    "    \\mathcal{L}_{i}\n",
    "    =\n",
    "    &\\frac{1}{\\sqrt{2 \\pi} \\sigma_{Dx}}\n",
    "    \\exp{ \\left\\{  - \\frac{1}{2} \\frac{(Dx^{\\text{obs}}_{i} - Dx^{\\text{model exp.}} (\\theta,x_{i},y_{i},E_{x,i}) )^{2}}{\\sigma^{2}_{Dx}} \\right\\} }\n",
    "    \\cdot \\\\\n",
    "    &\\frac{1}{\\sqrt{2 \\pi} \\sigma_{Dy}}\n",
    "    \\exp{  \\left\\{ -  \\frac{1}{2} \\frac{(Dy^{\\text{obs}}_{i} - Dy^{\\text{model exp.}} (\\theta,x_{i},y_{i},E_{y,i}))^{2}}{\\sigma^{2}_{Dy}} \\right\\} }\n",
    "\\end{aligned}\n",
    "\\end{equation}"
   ]
  },
  {
   "cell_type": "markdown",
   "metadata": {},
   "source": [
    "where:\n",
    "- $\\sigma_{Dx} = 0.05$\n",
    "- $\\sigma_{Dy} = 0.05$"
   ]
  },
  {
   "cell_type": "code",
   "execution_count": 1,
   "metadata": {},
   "outputs": [],
   "source": [
    "import scipy.stats\n",
    "import scipy.constants\n",
    "import numpy as np\n",
    "import pandas as pd\n",
    "import matplotlib.pyplot as plt\n",
    "import pint\n",
    "import ipywidgets\n",
    "%matplotlib inline"
   ]
  },
  {
   "cell_type": "code",
   "execution_count": 2,
   "metadata": {
    "collapsed": true
   },
   "outputs": [],
   "source": [
    "ur = pint.UnitRegistry()"
   ]
  },
  {
   "cell_type": "markdown",
   "metadata": {},
   "source": [
    "## Deflection angle"
   ]
  },
  {
   "cell_type": "code",
   "execution_count": 3,
   "metadata": {},
   "outputs": [],
   "source": [
    "M_sol = 1.989*1e30 * ur.kg\n",
    "M_earth = 5.972 * 1e24 * ur.kg\n",
    "#r = 149.60 * 1e6 * ur.km\n",
    "r = 695508 * ur.km\n",
    "c = scipy.constants.c * ur['m/s']\n",
    "G = scipy.constants.G * ur['m^3 kg^-1 s^-2']"
   ]
  },
  {
   "cell_type": "code",
   "execution_count": 4,
   "metadata": {
    "collapsed": true
   },
   "outputs": [],
   "source": [
    "def calc_theta(alpha):\n",
    "    \n",
    "    theta = alpha*G*M_sol/(r*c**2)\n",
    "    return theta"
   ]
  },
  {
   "cell_type": "code",
   "execution_count": 5,
   "metadata": {},
   "outputs": [],
   "source": [
    "theta_GR = calc_theta(alpha=4.0)\n",
    "theta_N  = calc_theta(alpha=2.0)"
   ]
  },
  {
   "cell_type": "code",
   "execution_count": 6,
   "metadata": {},
   "outputs": [
    {
     "data": {
      "text/html": [
       "1.7521358677051202 arcsecond"
      ],
      "text/latex": [
       "$1.7521358677051202\\ \\mathrm{arcsecond}$"
      ],
      "text/plain": [
       "<Quantity(1.7521358677051202, 'arcsecond')>"
      ]
     },
     "execution_count": 6,
     "metadata": {},
     "output_type": "execute_result"
    }
   ],
   "source": [
    "theta_GR.to('arcsec')"
   ]
  },
  {
   "cell_type": "code",
   "execution_count": 7,
   "metadata": {},
   "outputs": [
    {
     "data": {
      "text/html": [
       "0.8760679338525601 arcsecond"
      ],
      "text/latex": [
       "$0.8760679338525601\\ \\mathrm{arcsecond}$"
      ],
      "text/plain": [
       "<Quantity(0.8760679338525601, 'arcsecond')>"
      ]
     },
     "execution_count": 7,
     "metadata": {},
     "output_type": "execute_result"
    }
   ],
   "source": [
    "theta_N.to('arcsec')"
   ]
  },
  {
   "cell_type": "markdown",
   "metadata": {},
   "source": [
    "Constructing required functions"
   ]
  },
  {
   "cell_type": "code",
   "execution_count": 8,
   "metadata": {
    "collapsed": true
   },
   "outputs": [],
   "source": [
    "def calc_Dx(x,y,alpha,a,b,c,Ex):\n",
    "    Dx = a*x + b*y + c + alpha*Ex\n",
    "    return Dx"
   ]
  },
  {
   "cell_type": "code",
   "execution_count": 9,
   "metadata": {
    "collapsed": true
   },
   "outputs": [],
   "source": [
    "def calc_Dy(x,y,alpha,d,e,f,Ey):\n",
    "    Dy = d*x + e*y + f + alpha*Ey\n",
    "    return Dy"
   ]
  },
  {
   "cell_type": "markdown",
   "metadata": {},
   "source": [
    "def log_likelihood_one_star(par,x,y,Ex,Ey,Dx_obs,Dy_obs,error=0.05):\n",
    "    \n",
    "    alpha = par[0]\n",
    "    a = par[1]\n",
    "    b = par[2]\n",
    "    c = par[3]\n",
    "    d = par[4]\n",
    "    e = par[5]\n",
    "    f = par[6]\n",
    "    Dx_mean = calc_Dx(x,y,alpha,a,b,c,Ex)\n",
    "    Dy_mean = calc_Dy(x,y,alpha,d,e,f,Ey)\n",
    "    log_p_Dx = scipy.stats.norm.logpdf(x=Dx_obs, loc=Dx_mean, scale=error)\n",
    "    log_p_Dy = scipy.stats.norm.logpdf(x=Dy_obs, loc=Dy_mean, scale=error)\n",
    "    likelihood = log_p_Dx + log_p_Dy\n",
    "    \n",
    "    return likelihood"
   ]
  },
  {
   "cell_type": "code",
   "execution_count": 66,
   "metadata": {
    "collapsed": true
   },
   "outputs": [],
   "source": [
    "def log_likelihood_one_star(par,x,y,Ex,Ey,Dx_obs,Dy_obs,sigma_Dx=0.05, sigma_Dy=0.05):\n",
    "    \n",
    "    alpha = par[0]\n",
    "    a     = par[1]\n",
    "    b     = par[2]\n",
    "    c     = par[3]\n",
    "    d     = par[4]\n",
    "    e     = par[5]\n",
    "    f     = par[6]\n",
    "    \n",
    "    Dx_mean = calc_Dx(x,y,alpha,a,b,c,Ex)\n",
    "    Dy_mean = calc_Dy(x,y,alpha,d,e,f,Ey)\n",
    "    \n",
    "    log_p_Dx = ((Dx_obs - Dx_mean)/sigma_Dx)**2\n",
    "    log_p_Dy = ((Dy_obs - Dy_mean)/sigma_Dy)**2\n",
    "    \n",
    "    #log_p_Dx = scipy.stats.norm.logpdf(x=Dx_obs, loc=Dx_mean, scale=error)\n",
    "    #log_p_Dy = scipy.stats.norm.logpdf(x=Dy_obs, loc=Dy_mean, scale=error)\n",
    "    \n",
    "    likelihood = log_p_Dx + log_p_Dy\n",
    "    \n",
    "    return likelihood"
   ]
  },
  {
   "cell_type": "code",
   "execution_count": 171,
   "metadata": {
    "collapsed": true
   },
   "outputs": [],
   "source": [
    "def log_likelihood_combined(stars, par, error=0.05):\n",
    "    \n",
    "    ll_comb = 0.0\n",
    "    \n",
    "    for index, star in stars.iterrows():\n",
    "        \n",
    "        x = star['x']\n",
    "        y = star['y']\n",
    "        Ex = star['Ex']\n",
    "        Ey = star['Ey']\n",
    "        Dx_obs = star['Dx_obs']\n",
    "        Dy_obs = star['Dy_obs']\n",
    "        \n",
    "        arg = (par,x,y,Ex,Ey,Dx_obs,Dy_obs)\n",
    "        ll_star  = log_likelihood_one_star(*arg)\n",
    "        #print(star)\n",
    "        #print(*arg)\n",
    "        #print(ll_star)\n",
    "        ll_comb += ll_star\n",
    "        \n",
    "    return ll_comb"
   ]
  },
  {
   "cell_type": "code",
   "execution_count": 172,
   "metadata": {
    "collapsed": true
   },
   "outputs": [],
   "source": [
    "def create_df_with_Dx_Dy_preds(df_original, par, error=0.05):\n",
    "    \n",
    "    df = df_original.copy()\n",
    "\n",
    "    df['Dx_pred'] = 0.0\n",
    "    df['Dy_pred'] = 0.0\n",
    "    df['log_likelihood'] = 0.0\n",
    "        \n",
    "    for index, star in df.iterrows():\n",
    "        \n",
    "        x = star['x']\n",
    "        y = star['y']\n",
    "        Ex = star['Ex']\n",
    "        Ey = star['Ey']\n",
    "        Dx_obs = star['Dx_obs']\n",
    "        Dy_obs = star['Dy_obs']\n",
    "\n",
    "        alpha = par[0]\n",
    "        a = par[1]\n",
    "        b = par[2]\n",
    "        c = par[3]\n",
    "        d = par[4]\n",
    "        e = par[5]\n",
    "        f = par[6]\n",
    "\n",
    "        Dx_pred_ = calc_Dx(x,y,alpha,a,b,c,Ex)\n",
    "        Dy_pred_ = calc_Dy(x,y,alpha,d,e,f,Ey)\n",
    "\n",
    "        df.at[index, 'Dx_pred'] = Dx_pred_\n",
    "        df.at[index, 'Dy_pred'] = Dy_pred_\n",
    "        arg = par, x, y, Ex, Ey, Dx_obs, Dy_obs\n",
    "        log_likelihood = log_likelihood_one_star(*arg)\n",
    "        #print(star)\n",
    "        #print(*arg)\n",
    "        #print(log_likelihood)\n",
    "        \n",
    "        df.at[index, 'log_likelihood'] = log_likelihood\n",
    "        \n",
    "        #df.iloc[idx]['Dx_pred'] = Dx_pred\n",
    "        #df.iloc[idx]['Dy_pred'] = Dy_pred\n",
    "        \n",
    "    return df"
   ]
  },
  {
   "cell_type": "markdown",
   "metadata": {},
   "source": [
    "### Loading in data"
   ]
  },
  {
   "cell_type": "code",
   "execution_count": 173,
   "metadata": {
    "collapsed": true
   },
   "outputs": [],
   "source": [
    "stars = pd.read_csv('eddington.dat', delim_whitespace=True, header=1, skiprows=0)"
   ]
  },
  {
   "cell_type": "markdown",
   "metadata": {},
   "source": [
    "Correcting $Dx$ and $Dy$"
   ]
  },
  {
   "cell_type": "code",
   "execution_count": 174,
   "metadata": {
    "collapsed": true
   },
   "outputs": [],
   "source": [
    "stars['Dx_obs'] = stars['Dx_obs_uncorrected']+1.5\n",
    "stars['Dy_obs'] = stars['Dy_obs_uncorrected']+1.324"
   ]
  },
  {
   "cell_type": "code",
   "execution_count": 175,
   "metadata": {},
   "outputs": [
    {
     "data": {
      "text/html": [
       "<div>\n",
       "<style>\n",
       "    .dataframe thead tr:only-child th {\n",
       "        text-align: right;\n",
       "    }\n",
       "\n",
       "    .dataframe thead th {\n",
       "        text-align: left;\n",
       "    }\n",
       "\n",
       "    .dataframe tbody tr th {\n",
       "        vertical-align: top;\n",
       "    }\n",
       "</style>\n",
       "<table border=\"1\" class=\"dataframe\">\n",
       "  <thead>\n",
       "    <tr style=\"text-align: right;\">\n",
       "      <th></th>\n",
       "      <th>x</th>\n",
       "      <th>y</th>\n",
       "      <th>Ex</th>\n",
       "      <th>Ey</th>\n",
       "      <th>Dx_obs_uncorrected</th>\n",
       "      <th>Dy_obs_uncorrected</th>\n",
       "      <th>Dx_obs</th>\n",
       "      <th>Dy_obs</th>\n",
       "    </tr>\n",
       "  </thead>\n",
       "  <tbody>\n",
       "    <tr>\n",
       "      <th>0</th>\n",
       "      <td>-1.261</td>\n",
       "      <td>-0.160</td>\n",
       "      <td>-0.587</td>\n",
       "      <td>0.036</td>\n",
       "      <td>-1.416</td>\n",
       "      <td>-1.324</td>\n",
       "      <td>0.084</td>\n",
       "      <td>0.000</td>\n",
       "    </tr>\n",
       "    <tr>\n",
       "      <th>1</th>\n",
       "      <td>-0.160</td>\n",
       "      <td>-1.107</td>\n",
       "      <td>-0.557</td>\n",
       "      <td>-0.789</td>\n",
       "      <td>-1.221</td>\n",
       "      <td>-1.312</td>\n",
       "      <td>0.279</td>\n",
       "      <td>0.012</td>\n",
       "    </tr>\n",
       "    <tr>\n",
       "      <th>2</th>\n",
       "      <td>0.334</td>\n",
       "      <td>0.472</td>\n",
       "      <td>-0.186</td>\n",
       "      <td>1.336</td>\n",
       "      <td>-1.054</td>\n",
       "      <td>-0.944</td>\n",
       "      <td>0.446</td>\n",
       "      <td>0.380</td>\n",
       "    </tr>\n",
       "    <tr>\n",
       "      <th>3</th>\n",
       "      <td>0.348</td>\n",
       "      <td>0.360</td>\n",
       "      <td>-0.222</td>\n",
       "      <td>1.574</td>\n",
       "      <td>-1.079</td>\n",
       "      <td>-0.862</td>\n",
       "      <td>0.421</td>\n",
       "      <td>0.462</td>\n",
       "    </tr>\n",
       "    <tr>\n",
       "      <th>4</th>\n",
       "      <td>0.587</td>\n",
       "      <td>1.099</td>\n",
       "      <td>0.080</td>\n",
       "      <td>0.726</td>\n",
       "      <td>-1.012</td>\n",
       "      <td>-0.932</td>\n",
       "      <td>0.488</td>\n",
       "      <td>0.392</td>\n",
       "    </tr>\n",
       "    <tr>\n",
       "      <th>5</th>\n",
       "      <td>0.860</td>\n",
       "      <td>1.321</td>\n",
       "      <td>0.158</td>\n",
       "      <td>0.589</td>\n",
       "      <td>-0.999</td>\n",
       "      <td>-0.948</td>\n",
       "      <td>0.501</td>\n",
       "      <td>0.376</td>\n",
       "    </tr>\n",
       "    <tr>\n",
       "      <th>6</th>\n",
       "      <td>1.079</td>\n",
       "      <td>-0.328</td>\n",
       "      <td>1.540</td>\n",
       "      <td>-0.156</td>\n",
       "      <td>-0.733</td>\n",
       "      <td>-1.019</td>\n",
       "      <td>0.767</td>\n",
       "      <td>0.305</td>\n",
       "    </tr>\n",
       "  </tbody>\n",
       "</table>\n",
       "</div>"
      ],
      "text/plain": [
       "       x      y     Ex     Ey  Dx_obs_uncorrected  Dy_obs_uncorrected  Dx_obs  \\\n",
       "0 -1.261 -0.160 -0.587  0.036              -1.416              -1.324   0.084   \n",
       "1 -0.160 -1.107 -0.557 -0.789              -1.221              -1.312   0.279   \n",
       "2  0.334  0.472 -0.186  1.336              -1.054              -0.944   0.446   \n",
       "3  0.348  0.360 -0.222  1.574              -1.079              -0.862   0.421   \n",
       "4  0.587  1.099  0.080  0.726              -1.012              -0.932   0.488   \n",
       "5  0.860  1.321  0.158  0.589              -0.999              -0.948   0.501   \n",
       "6  1.079 -0.328  1.540 -0.156              -0.733              -1.019   0.767   \n",
       "\n",
       "   Dy_obs  \n",
       "0   0.000  \n",
       "1   0.012  \n",
       "2   0.380  \n",
       "3   0.462  \n",
       "4   0.392  \n",
       "5   0.376  \n",
       "6   0.305  "
      ]
     },
     "execution_count": 175,
     "metadata": {},
     "output_type": "execute_result"
    }
   ],
   "source": [
    "stars"
   ]
  },
  {
   "cell_type": "markdown",
   "metadata": {},
   "source": [
    "### Exploration"
   ]
  },
  {
   "cell_type": "markdown",
   "metadata": {},
   "source": [
    "#### Position of the stars $(x,y)$"
   ]
  },
  {
   "cell_type": "code",
   "execution_count": 176,
   "metadata": {},
   "outputs": [
    {
     "data": {
      "image/png": "[encoded data removed]",
      "text/plain": [
       "<matplotlib.figure.Figure at 0x7fa3ebb5e470>"
      ]
     },
     "metadata": {},
     "output_type": "display_data"
    }
   ],
   "source": [
    "f,a = plt.subplots()\n",
    "\n",
    "for idx,star in stars.iterrows():\n",
    "    label = \"star {}\".format(idx)\n",
    "    c = \"C{}\".format(idx)\n",
    "    x = star['x']\n",
    "    y = star['y']\n",
    "    a.scatter(x, y, label=label, c=c)\n",
    "    txt = \"{}\".format(idx)\n",
    "    a.text(x+0.1, y, txt, verticalalignment='center', horizontalalignment='center')\n",
    "    \n",
    "a.set_xlabel('x')\n",
    "a.set_ylabel('y');"
   ]
  },
  {
   "cell_type": "markdown",
   "metadata": {},
   "source": [
    "#### Deflections $(Dx,Dy)$"
   ]
  },
  {
   "cell_type": "code",
   "execution_count": 177,
   "metadata": {},
   "outputs": [
    {
     "data": {
      "image/png": "[encoded data removed]",
      "text/plain": [
       "<matplotlib.figure.Figure at 0x7fa3ee93bef0>"
      ]
     },
     "metadata": {},
     "output_type": "display_data"
    }
   ],
   "source": [
    "f,a = plt.subplots()\n",
    "\n",
    "for idx,star in stars.iterrows():\n",
    "    label = \"star {}\".format(idx)\n",
    "    c = \"C{}\".format(idx)\n",
    "    Dx_obs = star['Dx_obs']\n",
    "    Dy_obs = star['Dy_obs']\n",
    "    a.scatter(Dx_obs, Dy_obs, label=label, c=c)\n",
    "    \n",
    "    txt = \"{}\".format(idx)\n",
    "    a.text(Dx_obs+0.05, Dy_obs, txt, verticalalignment='center', horizontalalignment='center')\n",
    "    \n",
    "a.set_xlabel('Dx')\n",
    "a.set_ylabel('Dy');"
   ]
  },
  {
   "cell_type": "markdown",
   "metadata": {},
   "source": [
    "### Testing a specific prediction"
   ]
  },
  {
   "cell_type": "code",
   "execution_count": 178,
   "metadata": {
    "collapsed": true
   },
   "outputs": [],
   "source": [
    "par = (1.75/19.8, 0.0, 0.0, 0.0, 0.0, 0.0, 0.0)"
   ]
  },
  {
   "cell_type": "code",
   "execution_count": 179,
   "metadata": {},
   "outputs": [],
   "source": [
    "stars_with_pred = create_df_with_Dx_Dy_preds(stars, par)"
   ]
  },
  {
   "cell_type": "code",
   "execution_count": 180,
   "metadata": {},
   "outputs": [
    {
     "data": {
      "text/html": [
       "<div>\n",
       "<style>\n",
       "    .dataframe thead tr:only-child th {\n",
       "        text-align: right;\n",
       "    }\n",
       "\n",
       "    .dataframe thead th {\n",
       "        text-align: left;\n",
       "    }\n",
       "\n",
       "    .dataframe tbody tr th {\n",
       "        vertical-align: top;\n",
       "    }\n",
       "</style>\n",
       "<table border=\"1\" class=\"dataframe\">\n",
       "  <thead>\n",
       "    <tr style=\"text-align: right;\">\n",
       "      <th></th>\n",
       "      <th>x</th>\n",
       "      <th>y</th>\n",
       "      <th>Ex</th>\n",
       "      <th>Ey</th>\n",
       "      <th>Dx_obs_uncorrected</th>\n",
       "      <th>Dy_obs_uncorrected</th>\n",
       "      <th>Dx_obs</th>\n",
       "      <th>Dy_obs</th>\n",
       "      <th>Dx_pred</th>\n",
       "      <th>Dy_pred</th>\n",
       "      <th>log_likelihood</th>\n",
       "    </tr>\n",
       "  </thead>\n",
       "  <tbody>\n",
       "    <tr>\n",
       "      <th>0</th>\n",
       "      <td>-1.261</td>\n",
       "      <td>-0.160</td>\n",
       "      <td>-0.587</td>\n",
       "      <td>0.036</td>\n",
       "      <td>-1.416</td>\n",
       "      <td>-1.324</td>\n",
       "      <td>0.084</td>\n",
       "      <td>0.000</td>\n",
       "      <td>-0.051881</td>\n",
       "      <td>0.003182</td>\n",
       "      <td>7.389542</td>\n",
       "    </tr>\n",
       "    <tr>\n",
       "      <th>1</th>\n",
       "      <td>-0.160</td>\n",
       "      <td>-1.107</td>\n",
       "      <td>-0.557</td>\n",
       "      <td>-0.789</td>\n",
       "      <td>-1.221</td>\n",
       "      <td>-1.312</td>\n",
       "      <td>0.279</td>\n",
       "      <td>0.012</td>\n",
       "      <td>-0.049230</td>\n",
       "      <td>-0.069735</td>\n",
       "      <td>45.766154</td>\n",
       "    </tr>\n",
       "    <tr>\n",
       "      <th>2</th>\n",
       "      <td>0.334</td>\n",
       "      <td>0.472</td>\n",
       "      <td>-0.186</td>\n",
       "      <td>1.336</td>\n",
       "      <td>-1.054</td>\n",
       "      <td>-0.944</td>\n",
       "      <td>0.446</td>\n",
       "      <td>0.380</td>\n",
       "      <td>-0.016439</td>\n",
       "      <td>0.118081</td>\n",
       "      <td>112.980742</td>\n",
       "    </tr>\n",
       "    <tr>\n",
       "      <th>3</th>\n",
       "      <td>0.348</td>\n",
       "      <td>0.360</td>\n",
       "      <td>-0.222</td>\n",
       "      <td>1.574</td>\n",
       "      <td>-1.079</td>\n",
       "      <td>-0.862</td>\n",
       "      <td>0.421</td>\n",
       "      <td>0.462</td>\n",
       "      <td>-0.019621</td>\n",
       "      <td>0.139116</td>\n",
       "      <td>119.360410</td>\n",
       "    </tr>\n",
       "    <tr>\n",
       "      <th>4</th>\n",
       "      <td>0.587</td>\n",
       "      <td>1.099</td>\n",
       "      <td>0.080</td>\n",
       "      <td>0.726</td>\n",
       "      <td>-1.012</td>\n",
       "      <td>-0.932</td>\n",
       "      <td>0.488</td>\n",
       "      <td>0.392</td>\n",
       "      <td>0.007071</td>\n",
       "      <td>0.064167</td>\n",
       "      <td>135.507072</td>\n",
       "    </tr>\n",
       "    <tr>\n",
       "      <th>5</th>\n",
       "      <td>0.860</td>\n",
       "      <td>1.321</td>\n",
       "      <td>0.158</td>\n",
       "      <td>0.589</td>\n",
       "      <td>-0.999</td>\n",
       "      <td>-0.948</td>\n",
       "      <td>0.501</td>\n",
       "      <td>0.376</td>\n",
       "      <td>0.013965</td>\n",
       "      <td>0.052058</td>\n",
       "      <td>136.856721</td>\n",
       "    </tr>\n",
       "    <tr>\n",
       "      <th>6</th>\n",
       "      <td>1.079</td>\n",
       "      <td>-0.328</td>\n",
       "      <td>1.540</td>\n",
       "      <td>-0.156</td>\n",
       "      <td>-0.733</td>\n",
       "      <td>-1.019</td>\n",
       "      <td>0.767</td>\n",
       "      <td>0.305</td>\n",
       "      <td>0.136111</td>\n",
       "      <td>-0.013788</td>\n",
       "      <td>199.858601</td>\n",
       "    </tr>\n",
       "  </tbody>\n",
       "</table>\n",
       "</div>"
      ],
      "text/plain": [
       "       x      y     Ex     Ey  Dx_obs_uncorrected  Dy_obs_uncorrected  Dx_obs  \\\n",
       "0 -1.261 -0.160 -0.587  0.036              -1.416              -1.324   0.084   \n",
       "1 -0.160 -1.107 -0.557 -0.789              -1.221              -1.312   0.279   \n",
       "2  0.334  0.472 -0.186  1.336              -1.054              -0.944   0.446   \n",
       "3  0.348  0.360 -0.222  1.574              -1.079              -0.862   0.421   \n",
       "4  0.587  1.099  0.080  0.726              -1.012              -0.932   0.488   \n",
       "5  0.860  1.321  0.158  0.589              -0.999              -0.948   0.501   \n",
       "6  1.079 -0.328  1.540 -0.156              -0.733              -1.019   0.767   \n",
       "\n",
       "   Dy_obs   Dx_pred   Dy_pred  log_likelihood  \n",
       "0   0.000 -0.051881  0.003182        7.389542  \n",
       "1   0.012 -0.049230 -0.069735       45.766154  \n",
       "2   0.380 -0.016439  0.118081      112.980742  \n",
       "3   0.462 -0.019621  0.139116      119.360410  \n",
       "4   0.392  0.007071  0.064167      135.507072  \n",
       "5   0.376  0.013965  0.052058      136.856721  \n",
       "6   0.305  0.136111 -0.013788      199.858601  "
      ]
     },
     "execution_count": 180,
     "metadata": {},
     "output_type": "execute_result"
    }
   ],
   "source": [
    "stars_with_pred"
   ]
  },
  {
   "cell_type": "markdown",
   "metadata": {},
   "source": [
    "Initializiation"
   ]
  },
  {
   "cell_type": "code",
   "execution_count": 181,
   "metadata": {
    "collapsed": true
   },
   "outputs": [],
   "source": [
    "par0 = (1.75/19.8, 0.0, 0.0, 0.0, 0.0, 0.0, 0.0)"
   ]
  },
  {
   "cell_type": "code",
   "execution_count": 182,
   "metadata": {},
   "outputs": [
    {
     "data": {
      "text/html": [
       "<div>\n",
       "<style>\n",
       "    .dataframe thead tr:only-child th {\n",
       "        text-align: right;\n",
       "    }\n",
       "\n",
       "    .dataframe thead th {\n",
       "        text-align: left;\n",
       "    }\n",
       "\n",
       "    .dataframe tbody tr th {\n",
       "        vertical-align: top;\n",
       "    }\n",
       "</style>\n",
       "<table border=\"1\" class=\"dataframe\">\n",
       "  <thead>\n",
       "    <tr style=\"text-align: right;\">\n",
       "      <th></th>\n",
       "      <th>x</th>\n",
       "      <th>y</th>\n",
       "      <th>Ex</th>\n",
       "      <th>Ey</th>\n",
       "      <th>Dx_obs_uncorrected</th>\n",
       "      <th>Dy_obs_uncorrected</th>\n",
       "      <th>Dx_obs</th>\n",
       "      <th>Dy_obs</th>\n",
       "    </tr>\n",
       "  </thead>\n",
       "  <tbody>\n",
       "    <tr>\n",
       "      <th>0</th>\n",
       "      <td>-1.261</td>\n",
       "      <td>-0.160</td>\n",
       "      <td>-0.587</td>\n",
       "      <td>0.036</td>\n",
       "      <td>-1.416</td>\n",
       "      <td>-1.324</td>\n",
       "      <td>0.084</td>\n",
       "      <td>0.000</td>\n",
       "    </tr>\n",
       "    <tr>\n",
       "      <th>1</th>\n",
       "      <td>-0.160</td>\n",
       "      <td>-1.107</td>\n",
       "      <td>-0.557</td>\n",
       "      <td>-0.789</td>\n",
       "      <td>-1.221</td>\n",
       "      <td>-1.312</td>\n",
       "      <td>0.279</td>\n",
       "      <td>0.012</td>\n",
       "    </tr>\n",
       "    <tr>\n",
       "      <th>2</th>\n",
       "      <td>0.334</td>\n",
       "      <td>0.472</td>\n",
       "      <td>-0.186</td>\n",
       "      <td>1.336</td>\n",
       "      <td>-1.054</td>\n",
       "      <td>-0.944</td>\n",
       "      <td>0.446</td>\n",
       "      <td>0.380</td>\n",
       "    </tr>\n",
       "    <tr>\n",
       "      <th>3</th>\n",
       "      <td>0.348</td>\n",
       "      <td>0.360</td>\n",
       "      <td>-0.222</td>\n",
       "      <td>1.574</td>\n",
       "      <td>-1.079</td>\n",
       "      <td>-0.862</td>\n",
       "      <td>0.421</td>\n",
       "      <td>0.462</td>\n",
       "    </tr>\n",
       "    <tr>\n",
       "      <th>4</th>\n",
       "      <td>0.587</td>\n",
       "      <td>1.099</td>\n",
       "      <td>0.080</td>\n",
       "      <td>0.726</td>\n",
       "      <td>-1.012</td>\n",
       "      <td>-0.932</td>\n",
       "      <td>0.488</td>\n",
       "      <td>0.392</td>\n",
       "    </tr>\n",
       "    <tr>\n",
       "      <th>5</th>\n",
       "      <td>0.860</td>\n",
       "      <td>1.321</td>\n",
       "      <td>0.158</td>\n",
       "      <td>0.589</td>\n",
       "      <td>-0.999</td>\n",
       "      <td>-0.948</td>\n",
       "      <td>0.501</td>\n",
       "      <td>0.376</td>\n",
       "    </tr>\n",
       "    <tr>\n",
       "      <th>6</th>\n",
       "      <td>1.079</td>\n",
       "      <td>-0.328</td>\n",
       "      <td>1.540</td>\n",
       "      <td>-0.156</td>\n",
       "      <td>-0.733</td>\n",
       "      <td>-1.019</td>\n",
       "      <td>0.767</td>\n",
       "      <td>0.305</td>\n",
       "    </tr>\n",
       "  </tbody>\n",
       "</table>\n",
       "</div>"
      ],
      "text/plain": [
       "       x      y     Ex     Ey  Dx_obs_uncorrected  Dy_obs_uncorrected  Dx_obs  \\\n",
       "0 -1.261 -0.160 -0.587  0.036              -1.416              -1.324   0.084   \n",
       "1 -0.160 -1.107 -0.557 -0.789              -1.221              -1.312   0.279   \n",
       "2  0.334  0.472 -0.186  1.336              -1.054              -0.944   0.446   \n",
       "3  0.348  0.360 -0.222  1.574              -1.079              -0.862   0.421   \n",
       "4  0.587  1.099  0.080  0.726              -1.012              -0.932   0.488   \n",
       "5  0.860  1.321  0.158  0.589              -0.999              -0.948   0.501   \n",
       "6  1.079 -0.328  1.540 -0.156              -0.733              -1.019   0.767   \n",
       "\n",
       "   Dy_obs  \n",
       "0   0.000  \n",
       "1   0.012  \n",
       "2   0.380  \n",
       "3   0.462  \n",
       "4   0.392  \n",
       "5   0.376  \n",
       "6   0.305  "
      ]
     },
     "execution_count": 182,
     "metadata": {},
     "output_type": "execute_result"
    }
   ],
   "source": [
    "stars"
   ]
  },
  {
   "cell_type": "code",
   "execution_count": 183,
   "metadata": {},
   "outputs": [],
   "source": [
    "l0 = log_likelihood_combined(stars, par)"
   ]
  },
  {
   "cell_type": "code",
   "execution_count": 184,
   "metadata": {},
   "outputs": [
    {
     "data": {
      "text/plain": [
       "757.7192425670848"
      ]
     },
     "execution_count": 184,
     "metadata": {},
     "output_type": "execute_result"
    }
   ],
   "source": [
    "l0"
   ]
  },
  {
   "cell_type": "code",
   "execution_count": 191,
   "metadata": {},
   "outputs": [
    {
     "data": {
      "text/plain": [
       "0.970133252146429"
      ]
     },
     "execution_count": 191,
     "metadata": {},
     "output_type": "execute_result"
    }
   ],
   "source": [
    "np.random.uniform()"
   ]
  },
  {
   "cell_type": "code",
   "execution_count": 194,
   "metadata": {},
   "outputs": [
    {
     "data": {
      "text/plain": [
       "0.5938947766270118"
      ]
     },
     "execution_count": 194,
     "metadata": {},
     "output_type": "execute_result"
    }
   ],
   "source": [
    "np.random.normal(scale=1.0)"
   ]
  },
  {
   "cell_type": "code",
   "execution_count": 205,
   "metadata": {
    "collapsed": true
   },
   "outputs": [],
   "source": [
    "arr = np.array([('Rex', 9, 81.0), ('Fido', 3, 27.0)], dtype=[('name', 'U10'), ('age', 'i4'), ('weight', 'f4')])"
   ]
  },
  {
   "cell_type": "code",
   "execution_count": 207,
   "metadata": {},
   "outputs": [
    {
     "name": "stdout",
     "output_type": "stream",
     "text": [
      "Rex\n",
      "Fido\n"
     ]
    }
   ],
   "source": [
    "for r in arr:\n",
    "    print(r['name'])"
   ]
  },
  {
   "cell_type": "code",
   "execution_count": null,
   "metadata": {
    "collapsed": true
   },
   "outputs": [],
   "source": []
  }
 ],
 "metadata": {
  "kernelspec": {
   "display_name": "Python 3",
   "language": "python",
   "name": "python3"
  },
  "language_info": {
   "codemirror_mode": {
    "name": "ipython",
    "version": 3
   },
   "file_extension": ".py",
   "mimetype": "text/x-python",
   "name": "python",
   "nbconvert_exporter": "python",
   "pygments_lexer": "ipython3",
   "version": "3.6.2"
  }
 },
 "nbformat": 4,
 "nbformat_minor": 2
}
