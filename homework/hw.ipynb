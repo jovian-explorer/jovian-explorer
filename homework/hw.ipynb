{
 "cells": [
  {
   "cell_type": "code",
   "execution_count": 1,
   "metadata": {
    "collapsed": true
   },
   "outputs": [],
   "source": [
    "import scipy.stats\n",
    "import numpy as np\n",
    "import pandas as pd\n",
    "import matplotlib.pyplot as plt\n",
    "%matplotlib inline"
   ]
  },
  {
   "cell_type": "markdown",
   "metadata": {},
   "source": [
    "This exercise is based around the relationship between the apparent brightness and\n",
    "distance of objects of a standard brightness (so-called ‘standard candles’). It is useful\n",
    "as the theoretical relation depends on the amount of Dark Matter, Dark Energy and\n",
    "on the curvature of the Universe. Type I supernova are thought to arise from collapse\n",
    "of white dwarf stars when the Chandrasekhar limit is reached, and are thus standard\n",
    "candles, and the resulting “Supernova Hubble Diagram” was famously used to infer the\n",
    "acceleration of the Universe, culminating in the award of the Nobel prize to Schmidt,\n",
    "Perlmutter and Riess. We will build on this example in the hands-on exercises."
   ]
  },
  {
   "cell_type": "markdown",
   "metadata": {},
   "source": [
    "Here is some minimal information. We have some data, and a theoretical model,\n",
    "which has some parameters. A very typical problem is to infer the model parameters\n",
    "from the data. Here you will read in data, plot it, overplot some theoretical curves\n",
    "(whose formula is slightly involved), and draw some simulated data at random.\n",
    "\n",
    "**Data:**\n",
    "\n",
    "We have a dataset of measurements μ at various different redshifts z. So the data\n",
    "consists of pairs of values, z i , μ i ; i = 1, . . . 31. You will read these in and plot them later.\n",
    "\n",
    "**Theory:**\n",
    "\n",
    "At this stage, you do not need to understand these formulae, but they given theoretical\n",
    "curves for $\\mu$ as a function of $z$, for a model with two parameters in it, $h$ (Hubble constant,\n",
    "in units of 100 km/s/Mpc) and $\\Omega_{m}$ (matter density parameter). The equation is a little involved, and requires 4 lines of code to compute it, but you don't need to understand it, just code it."
   ]
  },
  {
   "cell_type": "markdown",
   "metadata": {},
   "source": [
    "Distance modulus $\\mu$:\n",
    "\n",
    "\\begin{equation}\n",
    "    \\mu(z)\n",
    "    =\n",
    "    25 - 5 \\log_{10} h + 5 \\log_{10} \\left( D^{*}_{L}(z) \\right)\n",
    "\\end{equation}\n",
    "\n",
    "where $D^{*}_{L}(z)$ is:\n",
    "\n",
    "\\begin{equation}\n",
    "    D^{*}_{L}(z)\n",
    "    =\n",
    "    3000 (1+z) \\left[ \\eta (1,\\Omega_{m}) - \\eta \\left( \\frac{1}{1+z}, \\Omega_{m} \\right) \\right]\n",
    "\\end{equation}\n",
    "\n",
    "\\begin{equation}\n",
    "    \\eta(a,\\Omega_{m})\n",
    "    =\n",
    "    2\n",
    "    \\sqrt{s^{3} + 1}\n",
    "    \\left[\n",
    "        \\frac{1}{a^{4}}\n",
    "        -\n",
    "        0.1540 \\frac{s}{a^{3}}\n",
    "        +\n",
    "        0.4304 \\frac{s^{2}}{a^{2}}\n",
    "        +\n",
    "        0.19097 \\frac{s^{3}}{a}\n",
    "        +\n",
    "        0.066941 s^{4}\n",
    "    \\right]^{-\\frac{1}{8}}\n",
    "\\end{equation}\n",
    "\n",
    "\\begin{equation}\n",
    "    s^{3}\n",
    "    =\n",
    "    \\frac{1-\\Omega_{m}}{\\Omega_{m}}\n",
    "\\end{equation}"
   ]
  },
  {
   "cell_type": "code",
   "execution_count": 2,
   "metadata": {
    "collapsed": true
   },
   "outputs": [],
   "source": [
    "def calc_mu(z, h, Omega_m):\n",
    "    \n",
    "    DLstar = calc_DLstar(z, Omega_m)\n",
    "    mu = 25.0 - 5.0 * np.log10(h) + 5.0 * np.log10(DLstar)\n",
    "    return mu"
   ]
  },
  {
   "cell_type": "code",
   "execution_count": 3,
   "metadata": {
    "collapsed": true
   },
   "outputs": [],
   "source": [
    "def calc_DLstar(z, Omega_m):\n",
    "    \n",
    "    DLstar = 3000.0*(1.0+z)*(calc_eta(1.0,Omega_m) - calc_eta(1.0/(1.0+z), Omega_m))\n",
    "    return DLstar"
   ]
  },
  {
   "cell_type": "code",
   "execution_count": 4,
   "metadata": {
    "collapsed": true
   },
   "outputs": [],
   "source": [
    "def calc_eta(a,Omega_m):\n",
    "    \n",
    "    s3 = (1.0 - Omega_m)/Omega_m\n",
    "    s = np.power(s3, 1.0/3.0)\n",
    "    s2 = s*s\n",
    "    s4 = s2*s2\n",
    "\n",
    "    y = 1.0/(a**4) - 0.1540 * (s/a**3) + 0.4304*(s2/a**2) + 0.19097 * (s3/a) + 0.066941 * s4\n",
    "    eta = 2.0*np.sqrt(s3 + 1.0) * np.power(y,-1.0/8.0)\n",
    "    \n",
    "    return eta"
   ]
  },
  {
   "cell_type": "code",
   "execution_count": 5,
   "metadata": {
    "collapsed": true
   },
   "outputs": [],
   "source": [
    "JLA = pd.read_csv('jla_mub.txt', names=['z', 'mu'], skiprows=1, delim_whitespace=True)"
   ]
  },
  {
   "cell_type": "code",
   "execution_count": 6,
   "metadata": {},
   "outputs": [
    {
     "data": {
      "text/plain": [
       "<matplotlib.text.Text at 0x7f922581d860>"
      ]
     },
     "execution_count": 6,
     "metadata": {},
     "output_type": "execute_result"
    },
    {
     "data": {
      "image/png": "[encoded data removed]",
      "text/plain": [
       "<matplotlib.figure.Figure at 0x7f9225859a20>"
      ]
     },
     "metadata": {},
     "output_type": "display_data"
    }
   ],
   "source": [
    "f,a = plt.subplots()\n",
    "JLA.plot.scatter('z', 'mu', ax=a)\n",
    "a.set_xlabel(r\"$z$\")\n",
    "a.set_ylabel(r\"$\\mu$\")"
   ]
  },
  {
   "cell_type": "markdown",
   "metadata": {},
   "source": [
    "## Exercises"
   ]
  },
  {
   "cell_type": "markdown",
   "metadata": {},
   "source": [
    "### 1. and 2.\n",
    "1. Plot the theoretical distance modulus formula against redshift, for parameter\n",
    "values $\\Omega_{m}$ = 0.2, 0.3, 0.4, 0.5 for the range $0 < z < 2$. Set $h = 0.7$.\n",
    "\n",
    "2. Plot the observational data in the file (`jla_mub.txt` from the workshop website)\n",
    "on the graph."
   ]
  },
  {
   "cell_type": "code",
   "execution_count": 7,
   "metadata": {
    "collapsed": true
   },
   "outputs": [],
   "source": [
    "z_grid = np.linspace(0.0, 2.0, 100)"
   ]
  },
  {
   "cell_type": "code",
   "execution_count": 8,
   "metadata": {
    "collapsed": true
   },
   "outputs": [],
   "source": [
    "Omega_m_choices = [0.2, 0.3, 0.4, 0.5]\n",
    "h = 0.7"
   ]
  },
  {
   "cell_type": "code",
   "execution_count": 9,
   "metadata": {},
   "outputs": [
    {
     "name": "stderr",
     "output_type": "stream",
     "text": [
      "/home/edy/lib/build/anaconda3/lib/python3.6/site-packages/ipykernel_launcher.py:4: RuntimeWarning: divide by zero encountered in log10\n",
      "  after removing the cwd from sys.path.\n"
     ]
    }
   ],
   "source": [
    "mu_pred = {}\n",
    "for Omega_m in Omega_m_choices:\n",
    "    mu_pred[Omega_m] = calc_mu(z_grid, h, Omega_m)"
   ]
  },
  {
   "cell_type": "code",
   "execution_count": 12,
   "metadata": {},
   "outputs": [
    {
     "data": {
      "image/png": "[encoded data removed]",
      "text/plain": [
       "<matplotlib.figure.Figure at 0x7f9222da0dd8>"
      ]
     },
     "metadata": {},
     "output_type": "display_data"
    }
   ],
   "source": [
    "f,a = plt.subplots()\n",
    "for Omega_m, mu in mu_pred.items():\n",
    "    label = \"$\\Omega_{{m}} = {}$\".format(Omega_m)\n",
    "    a.plot(z_grid, mu, label=label)\n",
    "JLA.plot.scatter('z', 'mu', ax=a, c='k', label='Observed')\n",
    "plt.legend()\n",
    "a.set_xlabel(r'$z$')\n",
    "a.set_ylabel(r'$\\mu$');"
   ]
  },
  {
   "cell_type": "markdown",
   "metadata": {},
   "source": [
    "### 3., 4. and 5.\n",
    "\n",
    "3. Now generate some simulated data. Make a random set of 20 supernovae with\n",
    "redshifts drawn uniformly from $0 < z < 2$. Assuming that $\\Omega_{m} = 0.3$ and $h = 0.7$,\n",
    "compute $\\mu$ for each of them.\n",
    "\n",
    "4. Find a Gaussian random number generator routine, and add an error to μ for\n",
    "each supernova, drawn from a Gaussian error distribution with mean zero and\n",
    "r.m.s. 0.1 (magnitudes).\n",
    "\n",
    "5. Plot these data on a graph, with error bars, and overplot theory curves for\n",
    "$Ω_{m} = 0.3$ and $h = 0.6, 0.7$ and $0.8$. They should scatter around the correct\n",
    "middle curve."
   ]
  },
  {
   "cell_type": "code",
   "execution_count": 16,
   "metadata": {
    "collapsed": true
   },
   "outputs": [],
   "source": [
    "Omega_m = 0.3\n",
    "h = 0.7"
   ]
  },
  {
   "cell_type": "code",
   "execution_count": 17,
   "metadata": {},
   "outputs": [],
   "source": [
    "nsamples = 20\n",
    "z_gen = scipy.stats.uniform.rvs(size=nsamples, scale=2.0)\n",
    "mu_gen_mean = calc_mu(z_gen, h, Omega_m)\n",
    "mu_observed = mu_gen_mean + scipy.stats.norm.rvs(size=nsamples, loc=0, scale=0.1)"
   ]
  },
  {
   "cell_type": "code",
   "execution_count": 28,
   "metadata": {},
   "outputs": [
    {
     "name": "stderr",
     "output_type": "stream",
     "text": [
      "/home/edy/lib/build/anaconda3/lib/python3.6/site-packages/ipykernel_launcher.py:4: RuntimeWarning: divide by zero encountered in log10\n",
      "  after removing the cwd from sys.path.\n"
     ]
    }
   ],
   "source": [
    "z_grid = np.linspace(0.0, 2.0, 100)\n",
    "h_choices = [0.6, 0.7, 0.8]\n",
    "mu_pred = {}\n",
    "for h in h_choices:\n",
    "    mu_pred[h] = calc_mu(z_grid, h, Omega_m)"
   ]
  },
  {
   "cell_type": "code",
   "execution_count": 29,
   "metadata": {},
   "outputs": [
    {
     "data": {
      "image/png": "[encoded data removed]",
      "text/plain": [
       "<matplotlib.figure.Figure at 0x7f9222b69dd8>"
      ]
     },
     "metadata": {},
     "output_type": "display_data"
    }
   ],
   "source": [
    "f,a = plt.subplots()\n",
    "for Omega_m, mu in mu_pred.items():\n",
    "    label = \"$h = {}$\".format(h)\n",
    "    a.plot(z_grid, mu, label=label)\n",
    "a.scatter(z_gen, mu_observed)\n",
    "a.errorbar(z_gen, mu_observed, yerr=0.1, linestyle='')\n",
    "a.set_xlabel(r'$z$')\n",
    "a.set_ylabel(r'$\\mu$');\n",
    "#a.set_yscale('log')"
   ]
  }
 ],
 "metadata": {
  "kernelspec": {
   "display_name": "Python 3",
   "language": "python",
   "name": "python3"
  },
  "language_info": {
   "codemirror_mode": {
    "name": "ipython",
    "version": 3
   },
   "file_extension": ".py",
   "mimetype": "text/x-python",
   "name": "python",
   "nbconvert_exporter": "python",
   "pygments_lexer": "ipython3",
   "version": "3.6.6"
  }
 },
 "nbformat": 4,
 "nbformat_minor": 2
}
